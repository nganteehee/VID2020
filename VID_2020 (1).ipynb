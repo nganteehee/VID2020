{
 "cells": [
  {
   "cell_type": "code",
   "execution_count": 180,
   "id": "d150ee8f",
   "metadata": {},
   "outputs": [],
   "source": [
    "import pandas as pd\n",
    "import datetime as dt\n",
    "import os\n",
    "import numpy as np\n",
    "import matplotlib.pyplot as plt\n",
    "from datetime import datetime\n",
    "import seaborn as sns"
   ]
  },
  {
   "cell_type": "code",
   "execution_count": 181,
   "id": "b4b198e7",
   "metadata": {
    "scrolled": true
   },
   "outputs": [],
   "source": [
    "#Cleandata\n",
    "order = pd.read_csv(r\"R:\\NganLKT\\brazilian-ecommerce\\olist_orders_dataset.csv\", converters={'order_purchase_timestamp': str})\n",
    "payment = pd.read_csv(r\"R:\\NganLKT\\brazilian-ecommerce\\olist_order_payments_dataset.csv\")\n",
    "order_item = pd.read_csv(r\"R:\\NganLKT\\brazilian-ecommerce\\olist_order_items_dataset.csv\")\n",
    "customer_review = pd.read_csv(r\"R:\\NganLKT\\brazilian-ecommerce\\olist_order_reviews_dataset.csv\")\n",
    "customer_dataset = pd.read_csv(r\"R:\\NganLKT\\brazilian-ecommerce\\olist_customers_dataset.csv\")"
   ]
  },
  {
   "cell_type": "code",
   "execution_count": 182,
   "id": "3e2da2b5",
   "metadata": {},
   "outputs": [
    {
     "data": {
      "text/plain": [
       "Timestamp('2022-10-11 00:00:00')"
      ]
     },
     "execution_count": 182,
     "metadata": {},
     "output_type": "execute_result"
    }
   ],
   "source": [
    "def date_convert(text):\n",
    "#     return type(text)\n",
    "    if isinstance(text,str):\n",
    "        text = text.split()[0]\n",
    "        text = pd.to_datetime(text)\n",
    "        return text\n",
    "    return None\n",
    "date_convert ('10/11/2022 13:00:12')\n"
   ]
  },
  {
   "cell_type": "code",
   "execution_count": 183,
   "id": "408114f7",
   "metadata": {},
   "outputs": [],
   "source": [
    "order['order_purchase_timestamp'] = order['order_purchase_timestamp'].apply(date_convert)\n",
    "order['order_approved_at'] = order['order_approved_at'].apply(date_convert)\n",
    "order['order_delivered_carrier_date'] = order['order_delivered_carrier_date'].apply(date_convert)\n",
    "order['order_delivered_customer_date'] = order['order_delivered_customer_date'].apply(date_convert)\n",
    "order['order_estimated_delivery_date'] = order['order_estimated_delivery_date'].apply(date_convert)\n",
    "order['Delivery time'] = (order['order_delivered_customer_date'] - order['order_purchase_timestamp'])/np.timedelta64(1, 'D')\n"
   ]
  },
  {
   "cell_type": "code",
   "execution_count": 184,
   "id": "d4b1d09e",
   "metadata": {
    "scrolled": true
   },
   "outputs": [
    {
     "data": {
      "text/html": [
       "<div>\n",
       "<style scoped>\n",
       "    .dataframe tbody tr th:only-of-type {\n",
       "        vertical-align: middle;\n",
       "    }\n",
       "\n",
       "    .dataframe tbody tr th {\n",
       "        vertical-align: top;\n",
       "    }\n",
       "\n",
       "    .dataframe thead th {\n",
       "        text-align: right;\n",
       "    }\n",
       "</style>\n",
       "<table border=\"1\" class=\"dataframe\">\n",
       "  <thead>\n",
       "    <tr style=\"text-align: right;\">\n",
       "      <th></th>\n",
       "      <th>order_id</th>\n",
       "      <th>customer_id</th>\n",
       "      <th>order_status</th>\n",
       "      <th>order_purchase_timestamp</th>\n",
       "      <th>order_approved_at</th>\n",
       "      <th>order_delivered_carrier_date</th>\n",
       "      <th>order_delivered_customer_date</th>\n",
       "      <th>order_estimated_delivery_date</th>\n",
       "      <th>Delivery time</th>\n",
       "    </tr>\n",
       "  </thead>\n",
       "  <tbody>\n",
       "    <tr>\n",
       "      <th>0</th>\n",
       "      <td>e481f51cbdc54678b7cc49136f2d6af7</td>\n",
       "      <td>9ef432eb6251297304e76186b10a928d</td>\n",
       "      <td>delivered</td>\n",
       "      <td>2017-10-02</td>\n",
       "      <td>2017-10-02</td>\n",
       "      <td>2017-10-04</td>\n",
       "      <td>2017-10-10</td>\n",
       "      <td>2017-10-18</td>\n",
       "      <td>8.0</td>\n",
       "    </tr>\n",
       "    <tr>\n",
       "      <th>1</th>\n",
       "      <td>53cdb2fc8bc7dce0b6741e2150273451</td>\n",
       "      <td>b0830fb4747a6c6d20dea0b8c802d7ef</td>\n",
       "      <td>delivered</td>\n",
       "      <td>2018-07-24</td>\n",
       "      <td>2018-07-26</td>\n",
       "      <td>2018-07-26</td>\n",
       "      <td>2018-08-07</td>\n",
       "      <td>2018-08-13</td>\n",
       "      <td>14.0</td>\n",
       "    </tr>\n",
       "    <tr>\n",
       "      <th>2</th>\n",
       "      <td>47770eb9100c2d0c44946d9cf07ec65d</td>\n",
       "      <td>41ce2a54c0b03bf3443c3d931a367089</td>\n",
       "      <td>delivered</td>\n",
       "      <td>2018-08-08</td>\n",
       "      <td>2018-08-08</td>\n",
       "      <td>2018-08-08</td>\n",
       "      <td>2018-08-17</td>\n",
       "      <td>2018-09-04</td>\n",
       "      <td>9.0</td>\n",
       "    </tr>\n",
       "    <tr>\n",
       "      <th>3</th>\n",
       "      <td>949d5b44dbf5de918fe9c16f97b45f8a</td>\n",
       "      <td>f88197465ea7920adcdbec7375364d82</td>\n",
       "      <td>delivered</td>\n",
       "      <td>2017-11-18</td>\n",
       "      <td>2017-11-18</td>\n",
       "      <td>2017-11-22</td>\n",
       "      <td>2017-12-02</td>\n",
       "      <td>2017-12-15</td>\n",
       "      <td>14.0</td>\n",
       "    </tr>\n",
       "    <tr>\n",
       "      <th>4</th>\n",
       "      <td>ad21c59c0840e6cb83a9ceb5573f8159</td>\n",
       "      <td>8ab97904e6daea8866dbdbc4fb7aad2c</td>\n",
       "      <td>delivered</td>\n",
       "      <td>2018-02-13</td>\n",
       "      <td>2018-02-13</td>\n",
       "      <td>2018-02-14</td>\n",
       "      <td>2018-02-16</td>\n",
       "      <td>2018-02-26</td>\n",
       "      <td>3.0</td>\n",
       "    </tr>\n",
       "  </tbody>\n",
       "</table>\n",
       "</div>"
      ],
      "text/plain": [
       "                           order_id                       customer_id  \\\n",
       "0  e481f51cbdc54678b7cc49136f2d6af7  9ef432eb6251297304e76186b10a928d   \n",
       "1  53cdb2fc8bc7dce0b6741e2150273451  b0830fb4747a6c6d20dea0b8c802d7ef   \n",
       "2  47770eb9100c2d0c44946d9cf07ec65d  41ce2a54c0b03bf3443c3d931a367089   \n",
       "3  949d5b44dbf5de918fe9c16f97b45f8a  f88197465ea7920adcdbec7375364d82   \n",
       "4  ad21c59c0840e6cb83a9ceb5573f8159  8ab97904e6daea8866dbdbc4fb7aad2c   \n",
       "\n",
       "  order_status order_purchase_timestamp order_approved_at  \\\n",
       "0    delivered               2017-10-02        2017-10-02   \n",
       "1    delivered               2018-07-24        2018-07-26   \n",
       "2    delivered               2018-08-08        2018-08-08   \n",
       "3    delivered               2017-11-18        2017-11-18   \n",
       "4    delivered               2018-02-13        2018-02-13   \n",
       "\n",
       "  order_delivered_carrier_date order_delivered_customer_date  \\\n",
       "0                   2017-10-04                    2017-10-10   \n",
       "1                   2018-07-26                    2018-08-07   \n",
       "2                   2018-08-08                    2018-08-17   \n",
       "3                   2017-11-22                    2017-12-02   \n",
       "4                   2018-02-14                    2018-02-16   \n",
       "\n",
       "  order_estimated_delivery_date  Delivery time  \n",
       "0                    2017-10-18            8.0  \n",
       "1                    2018-08-13           14.0  \n",
       "2                    2018-09-04            9.0  \n",
       "3                    2017-12-15           14.0  \n",
       "4                    2018-02-26            3.0  "
      ]
     },
     "execution_count": 184,
     "metadata": {},
     "output_type": "execute_result"
    }
   ],
   "source": [
    "new_order_dts = order[order['order_status']== 'delivered']\n",
    "new_order_dts.head()"
   ]
  },
  {
   "cell_type": "code",
   "execution_count": null,
   "id": "d2be2292",
   "metadata": {},
   "outputs": [],
   "source": []
  },
  {
   "cell_type": "code",
   "execution_count": 185,
   "id": "6030dc1e",
   "metadata": {},
   "outputs": [
    {
     "name": "stderr",
     "output_type": "stream",
     "text": [
      "C:\\Users\\KIMNGA~1.NGU\\AppData\\Local\\Temp/ipykernel_15640/1079654130.py:3: SettingWithCopyWarning: \n",
      "A value is trying to be set on a copy of a slice from a DataFrame.\n",
      "Try using .loc[row_indexer,col_indexer] = value instead\n",
      "\n",
      "See the caveats in the documentation: https://pandas.pydata.org/pandas-docs/stable/user_guide/indexing.html#returning-a-view-versus-a-copy\n",
      "  new_order_dts['month_date'] = new_order_dts['order_purchase_timestamp'].dt.to_period('M')\n"
     ]
    }
   ],
   "source": [
    "# new_order_dts['Delivery time'] = (new_order_dts['order_delivered_customer_date'] - new_order_dts['order_purchase_timestamp'])/np.timedelta64(1, 'D')\n",
    "\n",
    "new_order_dts['month_date'] = new_order_dts['order_purchase_timestamp'].dt.to_period('M')\n",
    "new_order_dts['month_date']\n",
    "#create a new df of average monthly delivery time\n",
    "delivery_by_month = new_order_dts.groupby(['month_date'])['Delivery time'].mean().reset_index(name ='Delivery time')\n",
    "delivery_by_month.head()\n",
    "delivery_by_month = delivery_by_month.iloc[1: , :]"
   ]
  },
  {
   "cell_type": "markdown",
   "id": "cfb401e2",
   "metadata": {},
   "source": [
    "### Demonstrate average delivery time by month"
   ]
  },
  {
   "cell_type": "code",
   "execution_count": 186,
   "id": "237f82c5",
   "metadata": {},
   "outputs": [
    {
     "data": {
      "text/plain": [
       "[<matplotlib.lines.Line2D at 0x1fc21dcdc40>]"
      ]
     },
     "execution_count": 186,
     "metadata": {},
     "output_type": "execute_result"
    },
    {
     "data": {
      "image/png": "[encoded data removed]",
      "text/plain": [
       "<Figure size 432x288 with 1 Axes>"
      ]
     },
     "metadata": {
      "needs_background": "light"
     },
     "output_type": "display_data"
    }
   ],
   "source": [
    "plt.plot_date(delivery_by_month['month_date'],delivery_by_month['Delivery time'], linestyle = 'solid' )\n"
   ]
  },
  {
   "cell_type": "markdown",
   "id": "27c3e504",
   "metadata": {},
   "source": [
    "Delivery time fluctuates but in a general downward trend"
   ]
  },
  {
   "cell_type": "code",
   "execution_count": null,
   "id": "1660fb37",
   "metadata": {},
   "outputs": [],
   "source": []
  },
  {
   "cell_type": "code",
   "execution_count": 187,
   "id": "e1a41391",
   "metadata": {},
   "outputs": [],
   "source": [
    "# process order payment file\n",
    "#check if number of payment sequential equal the number of occurrence of order ID \n",
    "#>> if not equal meaning that either insufficent revenue received or missing data\n",
    "# df = payment.groupby('order_id').count()\n",
    "# df.groupby('payment_sequential').count()\n",
    "# df = df[df['payment_sequential'] != df['count']]\n",
    "# df.head()\n",
    "#empty df >> correct number of sequential payment\n"
   ]
  },
  {
   "cell_type": "code",
   "execution_count": 188,
   "id": "4797ee96",
   "metadata": {},
   "outputs": [
    {
     "data": {
      "text/html": [
       "<div>\n",
       "<style scoped>\n",
       "    .dataframe tbody tr th:only-of-type {\n",
       "        vertical-align: middle;\n",
       "    }\n",
       "\n",
       "    .dataframe tbody tr th {\n",
       "        vertical-align: top;\n",
       "    }\n",
       "\n",
       "    .dataframe thead th {\n",
       "        text-align: right;\n",
       "    }\n",
       "</style>\n",
       "<table border=\"1\" class=\"dataframe\">\n",
       "  <thead>\n",
       "    <tr style=\"text-align: right;\">\n",
       "      <th></th>\n",
       "      <th>order_id</th>\n",
       "      <th>cash_received</th>\n",
       "    </tr>\n",
       "  </thead>\n",
       "  <tbody>\n",
       "    <tr>\n",
       "      <th>0</th>\n",
       "      <td>00010242fe8c5a6d1ba2dd792cb16214</td>\n",
       "      <td>72.19</td>\n",
       "    </tr>\n",
       "    <tr>\n",
       "      <th>1</th>\n",
       "      <td>00018f77f2f0320c557190d7a144bdd3</td>\n",
       "      <td>259.83</td>\n",
       "    </tr>\n",
       "    <tr>\n",
       "      <th>2</th>\n",
       "      <td>000229ec398224ef6ca0657da4fc703e</td>\n",
       "      <td>216.87</td>\n",
       "    </tr>\n",
       "    <tr>\n",
       "      <th>3</th>\n",
       "      <td>00024acbcdf0a6daa1e931b038114c75</td>\n",
       "      <td>25.78</td>\n",
       "    </tr>\n",
       "    <tr>\n",
       "      <th>4</th>\n",
       "      <td>00042b26cf59d7ce69dfabb4e55b4fd9</td>\n",
       "      <td>218.04</td>\n",
       "    </tr>\n",
       "  </tbody>\n",
       "</table>\n",
       "</div>"
      ],
      "text/plain": [
       "                           order_id  cash_received\n",
       "0  00010242fe8c5a6d1ba2dd792cb16214          72.19\n",
       "1  00018f77f2f0320c557190d7a144bdd3         259.83\n",
       "2  000229ec398224ef6ca0657da4fc703e         216.87\n",
       "3  00024acbcdf0a6daa1e931b038114c75          25.78\n",
       "4  00042b26cf59d7ce69dfabb4e55b4fd9         218.04"
      ]
     },
     "execution_count": 188,
     "metadata": {},
     "output_type": "execute_result"
    }
   ],
   "source": [
    "# create another dataframe from payment type with sum of payment value\n",
    "payment_2 = payment.groupby('order_id')['payment_value'].sum().reset_index(name ='cash_received')\n",
    "payment_2.head()\n",
    "\n",
    "\n",
    "\n"
   ]
  },
  {
   "cell_type": "code",
   "execution_count": 189,
   "id": "7c46eba0",
   "metadata": {},
   "outputs": [
    {
     "data": {
      "text/html": [
       "<div>\n",
       "<style scoped>\n",
       "    .dataframe tbody tr th:only-of-type {\n",
       "        vertical-align: middle;\n",
       "    }\n",
       "\n",
       "    .dataframe tbody tr th {\n",
       "        vertical-align: top;\n",
       "    }\n",
       "\n",
       "    .dataframe thead th {\n",
       "        text-align: right;\n",
       "    }\n",
       "</style>\n",
       "<table border=\"1\" class=\"dataframe\">\n",
       "  <thead>\n",
       "    <tr style=\"text-align: right;\">\n",
       "      <th></th>\n",
       "      <th>order_id</th>\n",
       "      <th>total_price_per_order</th>\n",
       "    </tr>\n",
       "  </thead>\n",
       "  <tbody>\n",
       "    <tr>\n",
       "      <th>0</th>\n",
       "      <td>00010242fe8c5a6d1ba2dd792cb16214</td>\n",
       "      <td>72.19</td>\n",
       "    </tr>\n",
       "    <tr>\n",
       "      <th>1</th>\n",
       "      <td>00018f77f2f0320c557190d7a144bdd3</td>\n",
       "      <td>259.83</td>\n",
       "    </tr>\n",
       "    <tr>\n",
       "      <th>2</th>\n",
       "      <td>000229ec398224ef6ca0657da4fc703e</td>\n",
       "      <td>216.87</td>\n",
       "    </tr>\n",
       "    <tr>\n",
       "      <th>3</th>\n",
       "      <td>00024acbcdf0a6daa1e931b038114c75</td>\n",
       "      <td>25.78</td>\n",
       "    </tr>\n",
       "    <tr>\n",
       "      <th>4</th>\n",
       "      <td>00042b26cf59d7ce69dfabb4e55b4fd9</td>\n",
       "      <td>218.04</td>\n",
       "    </tr>\n",
       "  </tbody>\n",
       "</table>\n",
       "</div>"
      ],
      "text/plain": [
       "                           order_id  total_price_per_order\n",
       "0  00010242fe8c5a6d1ba2dd792cb16214                  72.19\n",
       "1  00018f77f2f0320c557190d7a144bdd3                 259.83\n",
       "2  000229ec398224ef6ca0657da4fc703e                 216.87\n",
       "3  00024acbcdf0a6daa1e931b038114c75                  25.78\n",
       "4  00042b26cf59d7ce69dfabb4e55b4fd9                 218.04"
      ]
     },
     "execution_count": 189,
     "metadata": {},
     "output_type": "execute_result"
    }
   ],
   "source": [
    "#order_items\n",
    "##price of each item + shipping fee\n",
    "## we have to calculate the total revenue of each order ID by group the df by order ID\n",
    "order_item['total_price'] = order_item['price'] + order_item['freight_value']\n",
    "order_item_2 = order_item.groupby(['order_id'])['total_price'].sum().reset_index(name ='total_price_per_order')\n",
    "order_item_2.head()\n",
    "#merge payment with order_items"
   ]
  },
  {
   "cell_type": "code",
   "execution_count": 190,
   "id": "6e5e3988",
   "metadata": {},
   "outputs": [
    {
     "data": {
      "text/html": [
       "<div>\n",
       "<style scoped>\n",
       "    .dataframe tbody tr th:only-of-type {\n",
       "        vertical-align: middle;\n",
       "    }\n",
       "\n",
       "    .dataframe tbody tr th {\n",
       "        vertical-align: top;\n",
       "    }\n",
       "\n",
       "    .dataframe thead th {\n",
       "        text-align: right;\n",
       "    }\n",
       "</style>\n",
       "<table border=\"1\" class=\"dataframe\">\n",
       "  <thead>\n",
       "    <tr style=\"text-align: right;\">\n",
       "      <th></th>\n",
       "      <th>order_id</th>\n",
       "      <th>cash_received</th>\n",
       "      <th>total_price_per_order</th>\n",
       "      <th>discrepacy</th>\n",
       "      <th>customer_id</th>\n",
       "      <th>order_status</th>\n",
       "      <th>order_purchase_timestamp</th>\n",
       "      <th>order_approved_at</th>\n",
       "      <th>order_delivered_carrier_date</th>\n",
       "      <th>order_delivered_customer_date</th>\n",
       "      <th>...</th>\n",
       "      <th>customer_unique_id</th>\n",
       "      <th>customer_zip_code_prefix</th>\n",
       "      <th>customer_city</th>\n",
       "      <th>customer_state</th>\n",
       "      <th>review_id</th>\n",
       "      <th>review_score</th>\n",
       "      <th>review_comment_title</th>\n",
       "      <th>review_comment_message</th>\n",
       "      <th>review_creation_date</th>\n",
       "      <th>review_answer_timestamp</th>\n",
       "    </tr>\n",
       "  </thead>\n",
       "  <tbody>\n",
       "    <tr>\n",
       "      <th>0</th>\n",
       "      <td>00010242fe8c5a6d1ba2dd792cb16214</td>\n",
       "      <td>72.19</td>\n",
       "      <td>72.19</td>\n",
       "      <td>0.000000e+00</td>\n",
       "      <td>3ce436f183e68e07877b285a838db11a</td>\n",
       "      <td>delivered</td>\n",
       "      <td>2017-09-13</td>\n",
       "      <td>2017-09-13</td>\n",
       "      <td>2017-09-19</td>\n",
       "      <td>2017-09-20</td>\n",
       "      <td>...</td>\n",
       "      <td>871766c5855e863f6eccc05f988b23cb</td>\n",
       "      <td>28013</td>\n",
       "      <td>campos dos goytacazes</td>\n",
       "      <td>RJ</td>\n",
       "      <td>97ca439bc427b48bc1cd7177abe71365</td>\n",
       "      <td>5</td>\n",
       "      <td>NaN</td>\n",
       "      <td>Perfeito, produto entregue antes do combinado.</td>\n",
       "      <td>2017-09-21 00:00:00</td>\n",
       "      <td>2017-09-22 10:57:03</td>\n",
       "    </tr>\n",
       "    <tr>\n",
       "      <th>1</th>\n",
       "      <td>00018f77f2f0320c557190d7a144bdd3</td>\n",
       "      <td>259.83</td>\n",
       "      <td>259.83</td>\n",
       "      <td>0.000000e+00</td>\n",
       "      <td>f6dd3ec061db4e3987629fe6b26e5cce</td>\n",
       "      <td>delivered</td>\n",
       "      <td>2017-04-26</td>\n",
       "      <td>2017-04-26</td>\n",
       "      <td>2017-05-04</td>\n",
       "      <td>2017-05-12</td>\n",
       "      <td>...</td>\n",
       "      <td>eb28e67c4c0b83846050ddfb8a35d051</td>\n",
       "      <td>15775</td>\n",
       "      <td>santa fe do sul</td>\n",
       "      <td>SP</td>\n",
       "      <td>7b07bacd811c4117b742569b04ce3580</td>\n",
       "      <td>4</td>\n",
       "      <td>NaN</td>\n",
       "      <td>NaN</td>\n",
       "      <td>2017-05-13 00:00:00</td>\n",
       "      <td>2017-05-15 11:34:13</td>\n",
       "    </tr>\n",
       "    <tr>\n",
       "      <th>2</th>\n",
       "      <td>000229ec398224ef6ca0657da4fc703e</td>\n",
       "      <td>216.87</td>\n",
       "      <td>216.87</td>\n",
       "      <td>0.000000e+00</td>\n",
       "      <td>6489ae5e4333f3693df5ad4372dab6d3</td>\n",
       "      <td>delivered</td>\n",
       "      <td>2018-01-14</td>\n",
       "      <td>2018-01-14</td>\n",
       "      <td>2018-01-16</td>\n",
       "      <td>2018-01-22</td>\n",
       "      <td>...</td>\n",
       "      <td>3818d81c6709e39d06b2738a8d3a2474</td>\n",
       "      <td>35661</td>\n",
       "      <td>para de minas</td>\n",
       "      <td>MG</td>\n",
       "      <td>0c5b33dea94867d1ac402749e5438e8b</td>\n",
       "      <td>5</td>\n",
       "      <td>NaN</td>\n",
       "      <td>Chegou antes do prazo previsto e o produto sur...</td>\n",
       "      <td>2018-01-23 00:00:00</td>\n",
       "      <td>2018-01-23 16:06:31</td>\n",
       "    </tr>\n",
       "    <tr>\n",
       "      <th>3</th>\n",
       "      <td>00024acbcdf0a6daa1e931b038114c75</td>\n",
       "      <td>25.78</td>\n",
       "      <td>25.78</td>\n",
       "      <td>0.000000e+00</td>\n",
       "      <td>d4eb9395c8c0431ee92fce09860c5a06</td>\n",
       "      <td>delivered</td>\n",
       "      <td>2018-08-08</td>\n",
       "      <td>2018-08-08</td>\n",
       "      <td>2018-08-10</td>\n",
       "      <td>2018-08-14</td>\n",
       "      <td>...</td>\n",
       "      <td>af861d436cfc08b2c2ddefd0ba074622</td>\n",
       "      <td>12952</td>\n",
       "      <td>atibaia</td>\n",
       "      <td>SP</td>\n",
       "      <td>f4028d019cb58564807486a6aaf33817</td>\n",
       "      <td>4</td>\n",
       "      <td>NaN</td>\n",
       "      <td>NaN</td>\n",
       "      <td>2018-08-15 00:00:00</td>\n",
       "      <td>2018-08-15 16:39:01</td>\n",
       "    </tr>\n",
       "    <tr>\n",
       "      <th>4</th>\n",
       "      <td>00042b26cf59d7ce69dfabb4e55b4fd9</td>\n",
       "      <td>218.04</td>\n",
       "      <td>218.04</td>\n",
       "      <td>-2.842171e-14</td>\n",
       "      <td>58dbd0b2d70206bf40e62cd34e84d795</td>\n",
       "      <td>delivered</td>\n",
       "      <td>2017-02-04</td>\n",
       "      <td>2017-02-04</td>\n",
       "      <td>2017-02-16</td>\n",
       "      <td>2017-03-01</td>\n",
       "      <td>...</td>\n",
       "      <td>64b576fb70d441e8f1b2d7d446e483c5</td>\n",
       "      <td>13226</td>\n",
       "      <td>varzea paulista</td>\n",
       "      <td>SP</td>\n",
       "      <td>940144190dcba6351888cafa43f3a3a5</td>\n",
       "      <td>5</td>\n",
       "      <td>NaN</td>\n",
       "      <td>Gostei pois veio no prazo determinado .</td>\n",
       "      <td>2017-03-02 00:00:00</td>\n",
       "      <td>2017-03-03 10:54:59</td>\n",
       "    </tr>\n",
       "  </tbody>\n",
       "</table>\n",
       "<p>5 rows × 22 columns</p>\n",
       "</div>"
      ],
      "text/plain": [
       "                           order_id  cash_received  total_price_per_order  \\\n",
       "0  00010242fe8c5a6d1ba2dd792cb16214          72.19                  72.19   \n",
       "1  00018f77f2f0320c557190d7a144bdd3         259.83                 259.83   \n",
       "2  000229ec398224ef6ca0657da4fc703e         216.87                 216.87   \n",
       "3  00024acbcdf0a6daa1e931b038114c75          25.78                  25.78   \n",
       "4  00042b26cf59d7ce69dfabb4e55b4fd9         218.04                 218.04   \n",
       "\n",
       "     discrepacy                       customer_id order_status  \\\n",
       "0  0.000000e+00  3ce436f183e68e07877b285a838db11a    delivered   \n",
       "1  0.000000e+00  f6dd3ec061db4e3987629fe6b26e5cce    delivered   \n",
       "2  0.000000e+00  6489ae5e4333f3693df5ad4372dab6d3    delivered   \n",
       "3  0.000000e+00  d4eb9395c8c0431ee92fce09860c5a06    delivered   \n",
       "4 -2.842171e-14  58dbd0b2d70206bf40e62cd34e84d795    delivered   \n",
       "\n",
       "  order_purchase_timestamp order_approved_at order_delivered_carrier_date  \\\n",
       "0               2017-09-13        2017-09-13                   2017-09-19   \n",
       "1               2017-04-26        2017-04-26                   2017-05-04   \n",
       "2               2018-01-14        2018-01-14                   2018-01-16   \n",
       "3               2018-08-08        2018-08-08                   2018-08-10   \n",
       "4               2017-02-04        2017-02-04                   2017-02-16   \n",
       "\n",
       "  order_delivered_customer_date  ...                customer_unique_id  \\\n",
       "0                    2017-09-20  ...  871766c5855e863f6eccc05f988b23cb   \n",
       "1                    2017-05-12  ...  eb28e67c4c0b83846050ddfb8a35d051   \n",
       "2                    2018-01-22  ...  3818d81c6709e39d06b2738a8d3a2474   \n",
       "3                    2018-08-14  ...  af861d436cfc08b2c2ddefd0ba074622   \n",
       "4                    2017-03-01  ...  64b576fb70d441e8f1b2d7d446e483c5   \n",
       "\n",
       "   customer_zip_code_prefix          customer_city  customer_state  \\\n",
       "0                     28013  campos dos goytacazes              RJ   \n",
       "1                     15775        santa fe do sul              SP   \n",
       "2                     35661          para de minas              MG   \n",
       "3                     12952                atibaia              SP   \n",
       "4                     13226        varzea paulista              SP   \n",
       "\n",
       "                          review_id review_score review_comment_title  \\\n",
       "0  97ca439bc427b48bc1cd7177abe71365            5                  NaN   \n",
       "1  7b07bacd811c4117b742569b04ce3580            4                  NaN   \n",
       "2  0c5b33dea94867d1ac402749e5438e8b            5                  NaN   \n",
       "3  f4028d019cb58564807486a6aaf33817            4                  NaN   \n",
       "4  940144190dcba6351888cafa43f3a3a5            5                  NaN   \n",
       "\n",
       "                              review_comment_message review_creation_date  \\\n",
       "0     Perfeito, produto entregue antes do combinado.  2017-09-21 00:00:00   \n",
       "1                                                NaN  2017-05-13 00:00:00   \n",
       "2  Chegou antes do prazo previsto e o produto sur...  2018-01-23 00:00:00   \n",
       "3                                                NaN  2018-08-15 00:00:00   \n",
       "4            Gostei pois veio no prazo determinado .  2017-03-02 00:00:00   \n",
       "\n",
       "  review_answer_timestamp  \n",
       "0     2017-09-22 10:57:03  \n",
       "1     2017-05-15 11:34:13  \n",
       "2     2018-01-23 16:06:31  \n",
       "3     2018-08-15 16:39:01  \n",
       "4     2017-03-03 10:54:59  \n",
       "\n",
       "[5 rows x 22 columns]"
      ]
     },
     "execution_count": 190,
     "metadata": {},
     "output_type": "execute_result"
    }
   ],
   "source": [
    "#merde order item 2 with payment 2\n",
    "New_1 = pd.merge(payment_2, order_item_2, how='outer', on = 'order_id')\n",
    "New_1.head()\n",
    "#check if money receive equal amount in order item\n",
    "New_1['discrepacy']= New_1['cash_received'] - New_1['total_price_per_order']\n",
    "New_2 = pd.merge(New_1,order, how = 'outer', on = 'order_id' )\n",
    "New_3 = pd.merge(New_2, customer_dataset, how = 'left', on = 'customer_id' )\n",
    "New_4 = pd.merge(New_3, customer_review, how = 'left', on = 'order_id')\n",
    "New_4 = New_4.drop_duplicates(subset=['order_id'])\n",
    "New_4.head()"
   ]
  },
  {
   "cell_type": "code",
   "execution_count": 191,
   "id": "6c2e6a40",
   "metadata": {},
   "outputs": [
    {
     "data": {
      "text/html": [
       "<div>\n",
       "<style scoped>\n",
       "    .dataframe tbody tr th:only-of-type {\n",
       "        vertical-align: middle;\n",
       "    }\n",
       "\n",
       "    .dataframe tbody tr th {\n",
       "        vertical-align: top;\n",
       "    }\n",
       "\n",
       "    .dataframe thead th {\n",
       "        text-align: right;\n",
       "    }\n",
       "</style>\n",
       "<table border=\"1\" class=\"dataframe\">\n",
       "  <thead>\n",
       "    <tr style=\"text-align: right;\">\n",
       "      <th></th>\n",
       "      <th>count</th>\n",
       "      <th>percent</th>\n",
       "    </tr>\n",
       "  </thead>\n",
       "  <tbody>\n",
       "    <tr>\n",
       "      <th>review_comment_title</th>\n",
       "      <td>87744</td>\n",
       "      <td>88.237246</td>\n",
       "    </tr>\n",
       "    <tr>\n",
       "      <th>review_comment_message</th>\n",
       "      <td>57886</td>\n",
       "      <td>58.211402</td>\n",
       "    </tr>\n",
       "    <tr>\n",
       "      <th>Delivery time</th>\n",
       "      <td>2965</td>\n",
       "      <td>2.981668</td>\n",
       "    </tr>\n",
       "    <tr>\n",
       "      <th>order_delivered_customer_date</th>\n",
       "      <td>2965</td>\n",
       "      <td>2.981668</td>\n",
       "    </tr>\n",
       "    <tr>\n",
       "      <th>order_delivered_carrier_date</th>\n",
       "      <td>1783</td>\n",
       "      <td>1.793023</td>\n",
       "    </tr>\n",
       "    <tr>\n",
       "      <th>discrepacy</th>\n",
       "      <td>776</td>\n",
       "      <td>0.780362</td>\n",
       "    </tr>\n",
       "    <tr>\n",
       "      <th>total_price_per_order</th>\n",
       "      <td>775</td>\n",
       "      <td>0.779357</td>\n",
       "    </tr>\n",
       "    <tr>\n",
       "      <th>order_approved_at</th>\n",
       "      <td>160</td>\n",
       "      <td>0.160899</td>\n",
       "    </tr>\n",
       "    <tr>\n",
       "      <th>cash_received</th>\n",
       "      <td>1</td>\n",
       "      <td>0.001006</td>\n",
       "    </tr>\n",
       "    <tr>\n",
       "      <th>customer_city</th>\n",
       "      <td>0</td>\n",
       "      <td>0.000000</td>\n",
       "    </tr>\n",
       "    <tr>\n",
       "      <th>review_creation_date</th>\n",
       "      <td>0</td>\n",
       "      <td>0.000000</td>\n",
       "    </tr>\n",
       "    <tr>\n",
       "      <th>review_score</th>\n",
       "      <td>0</td>\n",
       "      <td>0.000000</td>\n",
       "    </tr>\n",
       "    <tr>\n",
       "      <th>review_id</th>\n",
       "      <td>0</td>\n",
       "      <td>0.000000</td>\n",
       "    </tr>\n",
       "    <tr>\n",
       "      <th>customer_state</th>\n",
       "      <td>0</td>\n",
       "      <td>0.000000</td>\n",
       "    </tr>\n",
       "    <tr>\n",
       "      <th>order_id</th>\n",
       "      <td>0</td>\n",
       "      <td>0.000000</td>\n",
       "    </tr>\n",
       "    <tr>\n",
       "      <th>customer_zip_code_prefix</th>\n",
       "      <td>0</td>\n",
       "      <td>0.000000</td>\n",
       "    </tr>\n",
       "    <tr>\n",
       "      <th>customer_unique_id</th>\n",
       "      <td>0</td>\n",
       "      <td>0.000000</td>\n",
       "    </tr>\n",
       "    <tr>\n",
       "      <th>order_estimated_delivery_date</th>\n",
       "      <td>0</td>\n",
       "      <td>0.000000</td>\n",
       "    </tr>\n",
       "    <tr>\n",
       "      <th>order_purchase_timestamp</th>\n",
       "      <td>0</td>\n",
       "      <td>0.000000</td>\n",
       "    </tr>\n",
       "    <tr>\n",
       "      <th>order_status</th>\n",
       "      <td>0</td>\n",
       "      <td>0.000000</td>\n",
       "    </tr>\n",
       "    <tr>\n",
       "      <th>customer_id</th>\n",
       "      <td>0</td>\n",
       "      <td>0.000000</td>\n",
       "    </tr>\n",
       "    <tr>\n",
       "      <th>review_answer_timestamp</th>\n",
       "      <td>0</td>\n",
       "      <td>0.000000</td>\n",
       "    </tr>\n",
       "  </tbody>\n",
       "</table>\n",
       "</div>"
      ],
      "text/plain": [
       "                               count    percent\n",
       "review_comment_title           87744  88.237246\n",
       "review_comment_message         57886  58.211402\n",
       "Delivery time                   2965   2.981668\n",
       "order_delivered_customer_date   2965   2.981668\n",
       "order_delivered_carrier_date    1783   1.793023\n",
       "discrepacy                       776   0.780362\n",
       "total_price_per_order            775   0.779357\n",
       "order_approved_at                160   0.160899\n",
       "cash_received                      1   0.001006\n",
       "customer_city                      0   0.000000\n",
       "review_creation_date               0   0.000000\n",
       "review_score                       0   0.000000\n",
       "review_id                          0   0.000000\n",
       "customer_state                     0   0.000000\n",
       "order_id                           0   0.000000\n",
       "customer_zip_code_prefix           0   0.000000\n",
       "customer_unique_id                 0   0.000000\n",
       "order_estimated_delivery_date      0   0.000000\n",
       "order_purchase_timestamp           0   0.000000\n",
       "order_status                       0   0.000000\n",
       "customer_id                        0   0.000000\n",
       "review_answer_timestamp            0   0.000000"
      ]
     },
     "execution_count": 191,
     "metadata": {},
     "output_type": "execute_result"
    }
   ],
   "source": [
    "#check for missing value\n",
    "missing = pd.concat([New_4.isna().sum().sort_values(ascending = False), (New_4.isna().sum()/New_4.isna().count()*100).sort_values(ascending = False)], axis = 1, keys = ['count', 'percent']) \n",
    "missing"
   ]
  },
  {
   "cell_type": "code",
   "execution_count": 192,
   "id": "d150228c",
   "metadata": {
    "scrolled": true
   },
   "outputs": [
    {
     "data": {
      "text/plain": [
       "<AxesSubplot:title={'center':'Sale by state'}, xlabel='customer_state', ylabel='Avg_Sale_by_state'>"
      ]
     },
     "execution_count": 192,
     "metadata": {},
     "output_type": "execute_result"
    },
    {
     "data": {
      "image/png": "[encoded data removed]",
      "text/plain": [
       "<Figure size 1080x360 with 1 Axes>"
      ]
     },
     "metadata": {
      "needs_background": "light"
     },
     "output_type": "display_data"
    }
   ],
   "source": [
    "#Average order by state\n",
    "\n",
    "Sale_by_state = (New_4.groupby(['customer_state'])['cash_received'].sum()/New_4.groupby('customer_state')['order_id'].count()).reset_index(name ='Avg_Sale_by_state').sort_values(ascending=False, by = 'Avg_Sale_by_state')\n",
    "plt.figure(figsize=(15,5))\n",
    "plt.title('Sale by state')\n",
    "sns.barplot(x=Sale_by_state.customer_state, y=Sale_by_state.Avg_Sale_by_state)\n"
   ]
  },
  {
   "cell_type": "markdown",
   "id": "1a9966c3",
   "metadata": {},
   "source": [
    "### Check the correlation of overcharge and payment method"
   ]
  },
  {
   "cell_type": "code",
   "execution_count": 193,
   "id": "be3ce797",
   "metadata": {},
   "outputs": [
    {
     "name": "stdout",
     "output_type": "stream",
     "text": [
      "232 3064.7599999999998\n"
     ]
    },
    {
     "data": {
      "image/png": "[encoded data removed]",
      "text/plain": [
       "<Figure size 432x288 with 1 Axes>"
      ]
     },
     "metadata": {},
     "output_type": "display_data"
    }
   ],
   "source": [
    "#Check if cash receive equal total price\n",
    "#receive more than actual order\n",
    "df2 = New_4[New_4['discrepacy']>1]\n",
    "# df4 = pd.concat([df2['discrepacy'].sum(), len(df2['discrepacy'])], axis = 1, keys = ['amount', 'number of txn'])\n",
    "print(len(df2['discrepacy']), df2['discrepacy'].sum())\n",
    "# print(df2['discrepacy'].sum())\n",
    "#check to see the payment method\n",
    "df3 = pd.merge(df2, payment, how='inner', on = 'order_id')\n",
    "df3['payment_type'].value_counts()\n",
    "df3['payment_installments'].value_counts()\n",
    "plt.pie(df3['payment_type'].value_counts(), labels = ['credit cards', 'voucher'])\n",
    "\n",
    "\n",
    "plt.show()\n",
    "\n"
   ]
  },
  {
   "cell_type": "markdown",
   "id": "ba6dd797",
   "metadata": {},
   "source": [
    "**Majority of exceeded revenue is from credit card payment >> to check control system over credit payment**"
   ]
  },
  {
   "cell_type": "code",
   "execution_count": 194,
   "id": "07fa9330",
   "metadata": {},
   "outputs": [],
   "source": [
    "# print(len(New_2['order_id']))\n",
    "# New_3 = pd.merge(New_2, customer_review, how = 'left', on = 'order_id')\n",
    "# New_3 = New_3.drop_duplicates(subset=['order_id'])\n",
    "# print(len(New_3['order_id']))\n",
    "# New_3\n",
    "# New_3.to_csv(r'R:\\NganLKT\\brazilian-ecommerce\\mergereview.csv')"
   ]
  },
  {
   "cell_type": "markdown",
   "id": "9b3c2f24",
   "metadata": {},
   "source": [
    "### Check for possible correlation between delivery time and review score"
   ]
  },
  {
   "cell_type": "code",
   "execution_count": 195,
   "id": "2237af8b",
   "metadata": {},
   "outputs": [
    {
     "data": {
      "text/html": [
       "<div>\n",
       "<style scoped>\n",
       "    .dataframe tbody tr th:only-of-type {\n",
       "        vertical-align: middle;\n",
       "    }\n",
       "\n",
       "    .dataframe tbody tr th {\n",
       "        vertical-align: top;\n",
       "    }\n",
       "\n",
       "    .dataframe thead th {\n",
       "        text-align: right;\n",
       "    }\n",
       "</style>\n",
       "<table border=\"1\" class=\"dataframe\">\n",
       "  <thead>\n",
       "    <tr style=\"text-align: right;\">\n",
       "      <th></th>\n",
       "      <th>cash_received</th>\n",
       "      <th>total_price_per_order</th>\n",
       "      <th>discrepacy</th>\n",
       "      <th>Delivery time</th>\n",
       "      <th>customer_zip_code_prefix</th>\n",
       "      <th>review_score</th>\n",
       "    </tr>\n",
       "  </thead>\n",
       "  <tbody>\n",
       "    <tr>\n",
       "      <th>cash_received</th>\n",
       "      <td>1.000000</td>\n",
       "      <td>0.999987</td>\n",
       "      <td>0.017663</td>\n",
       "      <td>0.069893</td>\n",
       "      <td>0.057813</td>\n",
       "      <td>-0.050083</td>\n",
       "    </tr>\n",
       "    <tr>\n",
       "      <th>total_price_per_order</th>\n",
       "      <td>0.999987</td>\n",
       "      <td>1.000000</td>\n",
       "      <td>0.012543</td>\n",
       "      <td>0.069854</td>\n",
       "      <td>0.058072</td>\n",
       "      <td>-0.047508</td>\n",
       "    </tr>\n",
       "    <tr>\n",
       "      <th>discrepacy</th>\n",
       "      <td>0.017663</td>\n",
       "      <td>0.012543</td>\n",
       "      <td>1.000000</td>\n",
       "      <td>0.006429</td>\n",
       "      <td>0.011464</td>\n",
       "      <td>-0.004488</td>\n",
       "    </tr>\n",
       "    <tr>\n",
       "      <th>Delivery time</th>\n",
       "      <td>0.069893</td>\n",
       "      <td>0.069854</td>\n",
       "      <td>0.006429</td>\n",
       "      <td>1.000000</td>\n",
       "      <td>0.271432</td>\n",
       "      <td>-0.335080</td>\n",
       "    </tr>\n",
       "    <tr>\n",
       "      <th>customer_zip_code_prefix</th>\n",
       "      <td>0.057813</td>\n",
       "      <td>0.058072</td>\n",
       "      <td>0.011464</td>\n",
       "      <td>0.271432</td>\n",
       "      <td>1.000000</td>\n",
       "      <td>-0.015372</td>\n",
       "    </tr>\n",
       "    <tr>\n",
       "      <th>review_score</th>\n",
       "      <td>-0.050083</td>\n",
       "      <td>-0.047508</td>\n",
       "      <td>-0.004488</td>\n",
       "      <td>-0.335080</td>\n",
       "      <td>-0.015372</td>\n",
       "      <td>1.000000</td>\n",
       "    </tr>\n",
       "  </tbody>\n",
       "</table>\n",
       "</div>"
      ],
      "text/plain": [
       "                          cash_received  total_price_per_order  discrepacy  \\\n",
       "cash_received                  1.000000               0.999987    0.017663   \n",
       "total_price_per_order          0.999987               1.000000    0.012543   \n",
       "discrepacy                     0.017663               0.012543    1.000000   \n",
       "Delivery time                  0.069893               0.069854    0.006429   \n",
       "customer_zip_code_prefix       0.057813               0.058072    0.011464   \n",
       "review_score                  -0.050083              -0.047508   -0.004488   \n",
       "\n",
       "                          Delivery time  customer_zip_code_prefix  \\\n",
       "cash_received                  0.069893                  0.057813   \n",
       "total_price_per_order          0.069854                  0.058072   \n",
       "discrepacy                     0.006429                  0.011464   \n",
       "Delivery time                  1.000000                  0.271432   \n",
       "customer_zip_code_prefix       0.271432                  1.000000   \n",
       "review_score                  -0.335080                 -0.015372   \n",
       "\n",
       "                          review_score  \n",
       "cash_received                -0.050083  \n",
       "total_price_per_order        -0.047508  \n",
       "discrepacy                   -0.004488  \n",
       "Delivery time                -0.335080  \n",
       "customer_zip_code_prefix     -0.015372  \n",
       "review_score                  1.000000  "
      ]
     },
     "execution_count": 195,
     "metadata": {},
     "output_type": "execute_result"
    }
   ],
   "source": [
    "New_4.corr()"
   ]
  },
  {
   "cell_type": "code",
   "execution_count": 197,
   "id": "20d8ed34",
   "metadata": {},
   "outputs": [
    {
     "data": {
      "text/plain": [
       "4.0712784465160246"
      ]
     },
     "execution_count": 197,
     "metadata": {},
     "output_type": "execute_result"
    }
   ],
   "source": [
    "#Average score >> can be improved\n",
    "New_4['review_score'].mean()\n",
    "    "
   ]
  },
  {
   "cell_type": "code",
   "execution_count": 212,
   "id": "075f1182",
   "metadata": {},
   "outputs": [
    {
     "data": {
      "image/png": "[encoded data removed]",
      "text/plain": [
       "<Figure size 720x504 with 1 Axes>"
      ]
     },
     "metadata": {
      "needs_background": "light"
     },
     "output_type": "display_data"
    },
    {
     "data": {
      "image/png": "[encoded data removed]",
      "text/plain": [
       "<Figure size 720x504 with 1 Axes>"
      ]
     },
     "metadata": {
      "needs_background": "light"
     },
     "output_type": "display_data"
    },
    {
     "data": {
      "image/png": "[encoded data removed]",
      "text/plain": [
       "<Figure size 720x504 with 1 Axes>"
      ]
     },
     "metadata": {
      "needs_background": "light"
     },
     "output_type": "display_data"
    },
    {
     "data": {
      "image/png": "[encoded data removed]",
      "text/plain": [
       "<Figure size 720x504 with 1 Axes>"
      ]
     },
     "metadata": {
      "needs_background": "light"
     },
     "output_type": "display_data"
    },
    {
     "data": {
      "image/png": "[encoded data removed]",
      "text/plain": [
       "<Figure size 720x504 with 1 Axes>"
      ]
     },
     "metadata": {
      "needs_background": "light"
     },
     "output_type": "display_data"
    }
   ],
   "source": [
    "# fig, ax = plt.subplots(nrows=1, ncols=5)\n",
    "# print(ax.shape)\n",
    "\n",
    "for i in range(1, 6):\n",
    "    Rate_1 = New_4[New_4['review_score']== i]\n",
    "    fig, ax = plt.subplots(figsize =(10, 7))\n",
    "    ax.hist(Rate_1['Delivery time'], bins = range(0, 200, 10))\n",
    "    plt.title('Rate '+ str(i) + ' Delivery Days')\n",
    "    plt.xlabel('Delivery days')\n",
    "    plt.xlabel('No. order')\n"
   ]
  },
  {
   "cell_type": "markdown",
   "id": "cf8b8d29",
   "metadata": {},
   "source": [
    "We see a clear relation between review score and delivery time as the chart of the higher rate have higher number of shorter delivery date"
   ]
  },
  {
   "cell_type": "code",
   "execution_count": null,
   "id": "aad85101",
   "metadata": {},
   "outputs": [],
   "source": []
  },
  {
   "cell_type": "code",
   "execution_count": null,
   "id": "e5b1d77f",
   "metadata": {},
   "outputs": [],
   "source": []
  }
 ],
 "metadata": {
  "kernelspec": {
   "display_name": "Python 3 (ipykernel)",
   "language": "python",
   "name": "python3"
  },
  "language_info": {
   "codemirror_mode": {
    "name": "ipython",
    "version": 3
   },
   "file_extension": ".py",
   "mimetype": "text/x-python",
   "name": "python",
   "nbconvert_exporter": "python",
   "pygments_lexer": "ipython3",
   "version": "3.9.7"
  }
 },
 "nbformat": 4,
 "nbformat_minor": 5
}
